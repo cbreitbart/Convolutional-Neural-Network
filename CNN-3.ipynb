{
  "nbformat": 4,
  "nbformat_minor": 0,
  "metadata": {
    "accelerator": "GPU",
    "colab": {
      "provenance": []
    },
    "coursera": {
      "course_slug": "neural-networks-deep-learning",
      "graded_item_id": "XaIWT",
      "launcher_item_id": "zAgPl"
    },
    "kernelspec": {
      "display_name": "Python 3",
      "language": "python",
      "name": "python3"
    },
    "language_info": {
      "codemirror_mode": {
        "name": "ipython",
        "version": 3
      },
      "file_extension": ".py",
      "mimetype": "text/x-python",
      "name": "python",
      "nbconvert_exporter": "python",
      "pygments_lexer": "ipython3",
      "version": "3.8.5"
    }
  },
  "cells": [
    {
      "cell_type": "markdown",
      "metadata": {
        "id": "lzo37yE6ejuA"
      },
      "source": [
        "# Convolution Neural Network Homework\n",
        "\n",
        "This is the 3rd homework assignment for CAP 4630 and we will go through some primary operations for image processsing and implement one of the earilest representative convolution neural network - LeNet-5 . \\\n",
        "You will use **\"Tasks\"** and **\"Hints\"** to finish the work. **(Total 100 Points)** \\\n",
        "For section 1, when you implement covolution and maxpooling, you are **not** allowed to use built-in functions in Machine Learning libaries such as Scikit-learn Keras, Tensorflow, Pytorch; but you are encouraged to employ Keras for second section.\n",
        "\n",
        "**Task Overview:**\n",
        "- Basic operations for Digital Image Processing (DIP)\n",
        "- LeNet-5 (Google Colab is recommended for implementation)"
      ]
    },
    {
      "cell_type": "markdown",
      "metadata": {
        "id": "gLKjpQvaejuF"
      },
      "source": [
        "## 1 - Basic Image Processing ##\n",
        "### 1.1 Data Preparation \n",
        "\n",
        "Import packages and prepare image data as an array for image processing. **(5 Points)**\n",
        "\n",
        "**Tasks:**\n",
        "1. Import numpy and rename it to np.\n",
        "2. Import imageio and call imread to convert image to an array.\n",
        "3. **DISPLAY** the image in the output box before image-array conversion.\n",
        "4. **PRINT OUT** the size of the array\n",
        "5. **PRINT OUT** the numeric matrix form of image, i.e. the obtained array after image-array conversion.\n",
        "\n",
        "References:\n",
        "- [numpy](www.numpy.org) is the fundamental package for scientific computing with Python.\n",
        "- [imageio](https://imageio.github.io/) is a python library for basic image reading and writing.\n",
        "\n",
        "**Hints:**\n",
        "1. Image data is under current directory, i.e., \"./image.jpg\".\n",
        "2. You may consider importing \"display\" and \"Image\" from IPython.display for image display."
      ]
    },
    {
      "cell_type": "code",
      "metadata": {
        "id": "qvITLRocejuG",
        "colab": {
          "base_uri": "https://localhost:8080/",
          "height": 1000
        },
        "outputId": "f9299a05-cc46-4ec4-ff55-c83f14bbf256"
      },
      "source": [
        "# Import useful libraries\n",
        "import numpy as np\n",
        "import imageio\n",
        "from IPython.display import display, Image\n",
        "\n",
        "# Display original image\n",
        "dir = '/content/image.jpg'\n",
        "display(Image(filename=dir))\n",
        "\n",
        "# # Convert image to array, print out the shape of array, and print out the entire array\n",
        "img_matrix = imageio.imread(dir)\n",
        "print(img_matrix.shape)\n",
        "print(img_matrix)\n",
        "\n"
      ],
      "execution_count": 6,
      "outputs": [
        {
          "output_type": "display_data",
          "data": {
            "image/jpeg": "[encoded data removed]",
            "text/plain": [
              "<IPython.core.display.Image object>"
            ]
          },
          "metadata": {}
        },
        {
          "output_type": "stream",
          "name": "stdout",
          "text": [
            "(30, 30)\n",
            "[[ 98  89  78 112  90  93 158 112 122 117 107 121  90  75  67  93  73  67\n",
            "   96 152 167 151 166 154 134 105  53  51  55  44]\n",
            " [ 34  31  51  38  16  50 195 161 138 173 200 209 194 206 222 237 223 195\n",
            "  177 185 167 160 166 169 136  98  49  54  55  35]\n",
            " [ 78  84  94  71  81  69 190 204 233 240 249 234 232 241 250 235 235 236\n",
            "  224 194 169 181 170 162 121  95  55  49  52  47]\n",
            " [ 79  58  90 127 103 137 253 244 254 222 223 219 235 228 232 206 201 215\n",
            "  201 106 105 137 169 173 124  81  45  49  59  53]\n",
            " [ 31  75  44  81  89 191 242 255 228 208 231 233 236 222 227 199 177 192\n",
            "  208 104 137 109 170 194 159  88  44  54  63  46]\n",
            " [ 85  66  51 145 129 225 239 206 242 233 247 231 210 218 232 202 190 173\n",
            "  181  95 146  39 132 199 178 145 103  53  44  65]\n",
            " [ 81  60  76 178 216 214 209 230 240 229 230 211 157 176 214 218 185 186\n",
            "  198 154 203  33 100 157 157 179 162  72  39  78]\n",
            " [104  89 152 176 168 117 182 226 242 235 238 207  82  50  94 145 136 157\n",
            "  148 119 175  30 111 165 136 155 168 110  60  56]\n",
            " [ 95  39 181 160  91  13 180 237 240 242 221 102  24   7  19  12  38  95\n",
            "  101 142 155  30  89  91 107 145 161 113  60  53]\n",
            " [ 18  54 186 144 147  99 248 238 235 227 210 115  62  57  74  72  85  82\n",
            "   91 182  83  56  68  59 129 113 133 129 116  67]\n",
            " [ 84  79 201 132 185 229 217 206 210 188 188 155 160 169 164 141 111  70\n",
            "  126 154  49  40  69  73 104  85 120 132 158 125]\n",
            " [201 161 135 153 174 219 204 197 209 178 177 146 138 124 114 101  90  85\n",
            "  144 105  81  53  83 104  74  80 122 141 152 133]\n",
            " [162 150 147 212 176 180 190 187 161 107 114 140 191 178 114  49  74 117\n",
            "  112 118  99 114  93  98  96  90 104 139 102  67]\n",
            " [184 138 167 132  90 118 183 214 193 150 148 132 137 130 135 141  96 127\n",
            "  108 140  75 111 113  96 115 101  75  89  42  43]\n",
            " [172 127 105  83  61  34 134 149 188 134 119  97 106 106 115 120 109 107\n",
            "  123 139  70  77 110 103 102  91  67  68  42  61]\n",
            " [139  39  59  55  36  15  27 128 189 123  98  79 100 105 105  97  95  86\n",
            "  105 148  94  95  78  92  93  67  78 110  94  51]\n",
            " [162  27  19  24   2  34  19 104 153  91  88  71 100 151 122 118  98  96\n",
            "   92 143 136  86  92  79  83  64  35  31  61  87]\n",
            " [186 114  41  35  15  20  37  75 101  92  91  86 122 172 147  97  85  96\n",
            "   86 104  88  61  80  64  68  65  37  12  21  38]\n",
            " [183 164  24  17  41  42  75  49  67  80  74  86  98 104 116  99  81 101\n",
            "   90  94  97 116 149 125  69  83  64  30  28  42]\n",
            " [172 207  94  39  34  18  50  52  82  95  92  99  97  86 104 120  82  88\n",
            "   69  66  82 112 126  84  52  66  53  25  20  26]\n",
            " [159 164 106  37  51  56  38  56  62  87 101  90 108 125  99  84  94  90\n",
            "   78  79  86  97  89  48  79  77  59  41  34  27]\n",
            " [179 181 191 103  67  52  28  77  92 109 121 113 129 129  93  93  65  66\n",
            "   77  86  83  79  71  52  55  46  30  24  26  19]\n",
            " [198 178 191 158 154 149 142 139 144 144 109 102 103  73  72  98  89  84\n",
            "   94  92  76  65  51  40  19  21  12   9  19  25]\n",
            " [173 168 176 182 184 172 208 171 198 207 118  91 101  88 107  93 109  92\n",
            "   87  72  55  47  26   6   9  21  14   1   9  19]\n",
            " [180 180 176 177 187 189 165 134 130 188 137 113  70 107  79  61  81  61\n",
            "   47  49  48  30  10   0   4   5   5   5   4   7]\n",
            " [176 177 176 178 186 190 183 172 160 151 124 134 109  74  58  64  56  48\n",
            "   42  37  23   8   8  17   9   9  11  14  18  23]\n",
            " [175 174 176 180 181 185 195 207 179 208 217 168 122  92  94  48  52  34\n",
            "   18  14  12  10  14  21  33  28  23  23  26  28]\n",
            " [179 174 177 182 178 175 189 210 216 220 204 246 134 106  65  57  55  34\n",
            "   14   9  15  21  27  32  54  43  31  29  34  36]\n",
            " [183 176 177 185 182 172 179 196 255 153 188 221 225  84  82  51  42  39\n",
            "   33  25  19  23  41  59  49  37  27  31  47  59]\n",
            " [184 177 179 188 186 177 177 186 242 187 172 247 199 148  91  54  40  35\n",
            "   30  29  34  44  55  63  34  24  18  28  51  71]]\n"
          ]
        },
        {
          "output_type": "stream",
          "name": "stderr",
          "text": [
            "<ipython-input-6-12d35921be4d>:11: DeprecationWarning: Starting with ImageIO v3 the behavior of this function will switch to that of iio.v3.imread. To keep the current behavior (and make this warning disappear) use `import imageio.v2 as imageio` or call `imageio.v2.imread` directly.\n",
            "  img_matrix = imageio.imread(dir)\n"
          ]
        }
      ]
    },
    {
      "cell_type": "markdown",
      "metadata": {
        "id": "EY5djq-tejuI"
      },
      "source": [
        "### 1.2 Implementation of Convolution Filter\n",
        "\n",
        "Process the obtained array from the image with convolution operation. **(20 Points)**\n",
        "\n",
        "**Tasks:**\n",
        "1. Prepare a 3X3 Laplacian kernel (aka Laplacial filter) with array as convolution filter.\n",
        "2. Conduct convolution on image with prepared kernel.\n",
        "3. **PRINT OUT** convolution result for first ten rows.\n",
        "4. **PRINT OUT** the shape of the convolution result.\n",
        "5. **DISPLAY** convolution result as image with matplotlib. (Don't worry about the value <0 or >255. Scaling process will be conducted in imshow function to make sure valid display.)\n",
        "\n",
        "\n",
        "**Hints:**\n",
        "1. Laplacian kernel is widely used for edge detection. Its form is shown below:\n",
        "\n",
        "\n",
        "![](https://drive.google.com/uc?export=view&id=15bP8KCwHLtglJ-WXV4wolm4m46mCp3HL)\n",
        "\n",
        "2. You may consider the following steps for this implementation.\\\n",
        "    2.1 Extract all centriods of processing region for each convolution operation.\\\n",
        "    2.2 According to each centroid, locate all indices of the elements within the local region for each convolution operation.\\\n",
        "    2.3 Given obtained indices, locate pixel values (i.e. our obtained array elements) and conduct element-wise product between pixel and kernel values.\\\n",
        "    2.4 Sum element-wise product results and assign the value to convolution result at corresponding location.\\\n",
        "    **Note: we did not conduct padding for processed array, and thus, convolution result will become smaller than original array. You may think about the reason.**\n",
        "3. Validation for first 5X5 array (from upper-left corner), i.e., filtered_results[0:5,0:5]. The example figure is below.\n",
        "\n",
        "[[ 134.   37.   98.  195.  173.]\\\n",
        " [ -75.  -80.   56.  -65.  182.]\\\n",
        " [  96.  -37. -163.   22.   68.]\\\n",
        " [-101.  121.   81.  148.  -71.]\\\n",
        " [   7.  127. -141.  159. -127.]]\n",
        "\n",
        "![](https://drive.google.com/uc?export=view&id=18Iis1mJsvEaojZ7O3f3soE152Szwy8_Z)\n",
        "\n",
        "\n",
        " "
      ]
    },
    {
      "cell_type": "code",
      "metadata": {
        "id": "cnc8BNW9ejuJ",
        "colab": {
          "base_uri": "https://localhost:8080/",
          "height": 907
        },
        "outputId": "b798069f-15c7-4a30-d308-8eb8fb906149"
      },
      "source": [
        "######## Convolution with Laplacian Filter ##################\n",
        "import matplotlib.pyplot as plt\n",
        "\n",
        "# Define Laplacian kernel\n",
        "kernel = np.array([[0, 1, 0],\n",
        "                   [1, -4, 1],\n",
        "                   [0, 1, 0]])\n",
        "\n",
        "# Get image dimensions\n",
        "img_height, img_width = img_matrix.shape\n",
        "\n",
        "# Initialize filtered image matrix\n",
        "filtered_results = np.zeros((img_height - 2, img_width - 2))\n",
        "\n",
        "# Convolve image with kernel\n",
        "for i in range(1, img_height - 1):\n",
        "    for j in range(1, img_width - 1):\n",
        "        # Get centroid of processing region\n",
        "        centroid = img_matrix[i, j]\n",
        "\n",
        "        # Get indices of elements within local region\n",
        "        local_region = img_matrix[i-1:i+2, j-1:j+2]\n",
        "\n",
        "        # Compute element-wise product between pixel and kernel values\n",
        "        element_wise_product = local_region * kernel\n",
        "\n",
        "        # Sum element-wise product results\n",
        "        sum_product = np.sum(element_wise_product)\n",
        "\n",
        "        # Assign the value to filtered image matrix at corresponding location\n",
        "        filtered_results[i-1, j-1] = sum_product\n",
        "\n",
        "print(\"Filtered results for first ten rows:\\n\", filtered_results[:10, :])\n",
        "print(\"Filtered results shape:\", filtered_results.shape)\n",
        "\n",
        "# Display filtered image\n",
        "plt.imshow(filtered_results)\n",
        "plt.show()\n",
        "\n",
        "# Print out first 5x5 results\n",
        "print(filtered_results[0:5, 0:5])\n"
      ],
      "execution_count": 32,
      "outputs": [
        {
          "output_type": "stream",
          "name": "stdout",
          "text": [
            "Pooled results for first ten rows:\n",
            " [[ 134.   37.   98.  195.  173. -221.    5.  137.    3.  -62.  -87.  -39.\n",
            "   -92. -128. -175. -152.  -77.   -8.  -50.   13.   25.    1.  -58.  -22.\n",
            "    -7.   64.  -12.  -24.]\n",
            " [ -75.  -80.   56.  -65.  182.  -39.   12.  -96.  -83.  -99.  -27.  -24.\n",
            "   -48.  -70.  -12.  -45.  -75.  -88.  -92.  -29.  -88.   -2.  -15.   33.\n",
            "   -25.   18.   14.    2.]\n",
            " [  96.  -37. -163.   22.   68. -199.  -10.  -89.   37.   29.   49.  -25.\n",
            "    18.  -17.   43.   29.  -30.  -51.  180.  129.   16.  -26.  -43.   38.\n",
            "    28.   49.   11.  -19.]\n",
            " [-101.  121.   81.  148.  -71.  -30. -100.   47.   82.  -13.  -15.  -44.\n",
            "    21.  -23.   16.   74.    5. -154.  130.  -84.   47.  -76.  -75.  -52.\n",
            "    77.  114.   -7.  -49.]\n",
            " [   7.  127. -141.  159. -127.  -74.  142.  -61.   -6.  -63.  -23.    2.\n",
            "   -32.  -67.   31.  -23.   57.  -50.  205. -110.  264.  -20. -135.  -52.\n",
            "   -32.   -8.   61.   44.]\n",
            " [  72.  137.  -99. -175.  -89.   29.  -39.  -17.   22.    5.  -19.   51.\n",
            "   -65. -136. -126.  -10.  -31. -123.   -1. -304.  240.   33.   -7.   22.\n",
            "   -97. -126.   76.   98.]\n",
            " [  -1.  -86.  -46.  -72.  109.    4.  -13.  -27.   11.  -59. -195.  110.\n",
            "   159.   52. -120.  -19.  -63.  -17.  143. -193.  229.  -60. -165.   40.\n",
            "     8.  -84.  -27.   25.]\n",
            " [ 263. -187.  -48.  124.  435.  -40.  -64.   -4.  -45.  -92.  159.  157.\n",
            "   122.  111.  226.  176.   -2.   72.  -11. -190.  210.  -56.   56.   73.\n",
            "   -44.  -85.    8.  102.]\n",
            " [ 106. -164.   49.  -69.  241. -258.  -26.  -25.  -33.  -89.   69.  108.\n",
            "    84.   16.   24.  -37.   13.  127. -258.  110.   -3.    1.  125. -133.\n",
            "    40.   -9.  -22.  -50.]\n",
            " [ 184. -272.  155.  -58. -196.   19.   38.   -2.   51.  -22.  -11. -116.\n",
            "  -171. -158. -116.  -58.  124.  -45. -154.  162.   67.  -12.   44.  -55.\n",
            "    77.   -8.   20. -107.]]\n",
            "Pooled results shape: (28, 28)\n"
          ]
        },
        {
          "output_type": "display_data",
          "data": {
            "text/plain": [
              "<Figure size 432x288 with 1 Axes>"
            ],
            "image/png": "[encoded data removed]"
          },
          "metadata": {
            "needs_background": "light"
          }
        },
        {
          "output_type": "stream",
          "name": "stdout",
          "text": [
            "[[ 134.   37.   98.  195.  173.]\n",
            " [ -75.  -80.   56.  -65.  182.]\n",
            " [  96.  -37. -163.   22.   68.]\n",
            " [-101.  121.   81.  148.  -71.]\n",
            " [   7.  127. -141.  159. -127.]]\n"
          ]
        }
      ]
    },
    {
      "cell_type": "markdown",
      "metadata": {
        "id": "DMN_XE1xejuJ"
      },
      "source": [
        "### 1.3 Modification on Convolution Scheme\n",
        "\n",
        "Conduct the convolution with the same filter as above, but change the stride to 2. **(5 Points)**\n",
        "\n",
        "**Tasks:**\n",
        "1. Modify the convolution process with stride=2\n",
        "2. **PRINT OUT** convolution result for first ten rows.\n",
        "3. **PRINT OUT** the shape of the convolution result.\n",
        "4. **DISPLAY** convolution result as image with matplotlib.(Don't worry about the value <0 or >255. Scaling process will be conducted in imshow function to make sure valid display.)\n",
        "\n",
        "**Hints:**\n",
        "1. You may just reduce the centroid pool according to stride=2, and then, follow the same convolution process above.\n",
        "    **Note: After increase of stride, the size of convolution result is further shrinked. You may think about the reason.**\n",
        "2. Validation for first 5X5 array (from upper-left corner), i.e., filtered_results[0:5,0:5]. The example figure is below.\n",
        "\n",
        "[[ 134.   98.  173.    5.    3.]\\\n",
        " [  96. -163.   68.  -10.   37.]\\\n",
        " [   7. -141. -127.  142.   -6.]\\\n",
        " [  -1.  -46.  109.  -13.   11.]\\\n",
        " [ 106.   49.  241.  -26.  -33.]]\n",
        " \n",
        " \n",
        "![](https://drive.google.com/uc?export=view&id=1UPdXt5cY1umImu2chaQLfWAnqDEpFOGV)\n"
      ]
    },
    {
      "cell_type": "code",
      "metadata": {
        "id": "pyFLwZxYejuJ",
        "colab": {
          "base_uri": "https://localhost:8080/",
          "height": 734
        },
        "outputId": "74847907-0112-44e4-e739-25c193a93362"
      },
      "source": [
        "######## Convolution with Laplacian Filter and the setting of stride=2 ##################\n",
        "\n",
        "# Define strides\n",
        "stride = 2\n",
        "\n",
        "# Initialize filtered image matrix\n",
        "filtered_results = np.zeros(((img_height - 3) // 2 + 1, (img_width - 3) // 2 + 1))\n",
        "\n",
        "# Convolve image with kernel\n",
        "for i in range(1, img_height - 1, stride):\n",
        "    for j in range(1, img_width - 1, stride):\n",
        "        # Get centroid of processing region\n",
        "        centroid = img_matrix[i, j]\n",
        "\n",
        "        # Get indices of elements within local region\n",
        "        local_region = img_matrix[i-1:i+2, j-1:j+2]\n",
        "\n",
        "        # Compute element-wise product between pixel and kernel values\n",
        "        element_wise_product = local_region * kernel\n",
        "\n",
        "        # Sum element-wise product results\n",
        "        sum_product = np.sum(element_wise_product)\n",
        "\n",
        "        # Assign the value to filtered image matrix at corresponding location\n",
        "        filtered_results[(i-1)//stride, (j-1)//stride] = sum_product\n",
        "\n",
        "print(\"Filtered results for first ten rows:\\n\", filtered_results[:10, :])\n",
        "print(\"Filtered results shape:\", filtered_results.shape)\n",
        "\n",
        "# Display filtered image\n",
        "plt.imshow(filtered_results)\n",
        "plt.show()\n",
        "\n",
        "# Print out first 5x5 results\n",
        "print(filtered_results[0:5, 0:5])\n"
      ],
      "execution_count": 56,
      "outputs": [
        {
          "output_type": "stream",
          "name": "stdout",
          "text": [
            "Filtered results for first ten rows:\n",
            " [[ 134.   98.  173.    5.    3.  -87.  -92. -175.  -77.  -50.   25.  -58.\n",
            "    -7.  -12.]\n",
            " [  96. -163.   68.  -10.   37.   49.   18.   43.  -30.  180.   16.  -43.\n",
            "    28.   11.]\n",
            " [   7. -141. -127.  142.   -6.  -23.  -32.   31.   57.  205.  264. -135.\n",
            "   -32.   61.]\n",
            " [  -1.  -46.  109.  -13.   11. -195.  159. -120.  -63.  143.  229. -165.\n",
            "     8.  -27.]\n",
            " [ 106.   49.  241.  -26.  -33.   69.   84.   24.   13. -258.   -3.  125.\n",
            "    40.  -22.]\n",
            " [ -79.   41.  -89.   18.  -31.   26.  103.  -10.   81.   77.  106.  -88.\n",
            "    51.  -19.]\n",
            " [  76.   24.   15. -144.  -18.   -6.   36. -164.  -80. -120.  -65.   45.\n",
            "   -33.  -32.]\n",
            " [ 196.  -18.   71.  -43.   20.   50.   42.   50.   59. -111.  -45.  -15.\n",
            "    58. -169.]\n",
            " [ -38.  -43.   48.   -9.   -5.   26. -164.   61.  -16.   -5.  126.   96.\n",
            "    -8.   71.]\n",
            " [-234.   26.  110.   29.  -39.  -31.   86. -111.  -10.   60.  -27.   15.\n",
            "     1.   44.]]\n",
            "Filtered results shape: (14, 14)\n"
          ]
        },
        {
          "output_type": "display_data",
          "data": {
            "text/plain": [
              "<Figure size 432x288 with 1 Axes>"
            ],
            "image/png": "[encoded data removed]"
          },
          "metadata": {
            "needs_background": "light"
          }
        },
        {
          "output_type": "stream",
          "name": "stdout",
          "text": [
            "[[ 134.   98.  173.    5.    3.]\n",
            " [  96. -163.   68.  -10.   37.]\n",
            " [   7. -141. -127.  142.   -6.]\n",
            " [  -1.  -46.  109.  -13.   11.]\n",
            " [ 106.   49.  241.  -26.  -33.]]\n"
          ]
        }
      ]
    },
    {
      "cell_type": "markdown",
      "metadata": {
        "id": "l2PT6NpSejuL"
      },
      "source": [
        "### 1.4 Implementation of MaxPooling\n",
        "\n",
        "Process the obtained array from the image with MaxPooling operation. **(15 Points)**\n",
        "\n",
        "**Tasks:**\n",
        "1. Prepare a 2X2 pooling mask.\n",
        "2. Conduct max pooing on image with prepared mask.\n",
        "3. **PRINT OUT** convolution result for first ten rows.\n",
        "4. **PRINT OUT** the shape of the convolution result.\n",
        "5. **DISPLAY** convolution result as image with matplotlib.(Don't worry about the value <0 or >255. Scaling process will be conducted in imshow function to make sure valid display.)\n",
        "\n",
        "**Hints:**\n",
        "1. You may just modify the centroid pool to top-left corner pool, and then, follow the same strategy above.\\\n",
        "    **Note: After the pooling, the size of the array is shrinked. You may think about the reason.**\n",
        "2. Validation for first 5X5 array (from upper-left corner), i.e., pooled_results[0:5,0:5].The example figure is below.\n",
        "\n",
        "[[ 98. 112.  93. 195. 173.]\\\n",
        " [ 84. 127. 137. 253. 254.]\\\n",
        " [ 85. 145. 225. 255. 242.]\\\n",
        " [104. 178. 216. 230. 242.]\\\n",
        " [ 95. 186. 147. 248. 242.]]\n",
        "\n",
        "![](https://drive.google.com/uc?export=view&id=1a18IWjrN0xHcp7bSNuj8kUM4JFFj3ebd)\n",
        "\n"
      ]
    },
    {
      "cell_type": "code",
      "metadata": {
        "id": "JOV72Sp9ejuL",
        "colab": {
          "base_uri": "https://localhost:8080/",
          "height": 734
        },
        "outputId": "d1d23a10-2788-4ba5-e092-8cc74d10a35b"
      },
      "source": [
        "######## MaxPooling with the setting of 2X2 ##################\n",
        "\n",
        "# Prepare a 2X2 pooling mask\n",
        "pool_mask = np.array([[1, 1], [1, 1]])\n",
        "\n",
        "# Apply max pooling with prepared mask\n",
        "pooled_results = np.zeros((img_matrix.shape[0]//2, img_matrix.shape[1]//2))\n",
        "for i in range(0, img_matrix.shape[0]-1, 2):\n",
        "    for j in range(0, img_matrix.shape[1]-1, 2):\n",
        "        local_region = img_matrix[i:i+2, j:j+2]\n",
        "        pooled_results[i//2, j//2] = np.max(local_region * pool_mask)\n",
        "\n",
        "# Print out convolution result for first ten rows\n",
        "print(\"Pooled results for first ten rows:\\n\", pooled_results[:10, :])\n",
        "\n",
        "# Print out the shape of the convolution result\n",
        "print(\"Pooled results shape:\", pooled_results.shape)\n",
        "\n",
        "# Display convolution result as image with matplotlib\n",
        "plt.imshow(pooled_results)\n",
        "plt.show()\n",
        "\n",
        "print(pooled_results[0:5, 0:5])\n"
      ],
      "execution_count": 33,
      "outputs": [
        {
          "output_type": "stream",
          "name": "stdout",
          "text": [
            "Pooled results for first ten rows:\n",
            " [[ 98. 112.  93. 195. 173. 209. 206. 237. 223. 185. 167. 169. 136.  54.\n",
            "   55.]\n",
            " [ 84. 127. 137. 253. 254. 249. 241. 250. 236. 224. 181. 173. 124.  55.\n",
            "   59.]\n",
            " [ 85. 145. 225. 255. 242. 247. 236. 232. 192. 208. 146. 199. 178. 103.\n",
            "   65.]\n",
            " [104. 178. 216. 230. 242. 238. 176. 218. 186. 198. 203. 165. 179. 168.\n",
            "   78.]\n",
            " [ 95. 186. 147. 248. 242. 221.  62.  74.  95. 182. 155.  91. 145. 161.\n",
            "  116.]\n",
            " [201. 201. 229. 217. 210. 188. 169. 164. 111. 154.  81. 104. 104. 141.\n",
            "  158.]\n",
            " [184. 212. 180. 214. 193. 148. 191. 141. 127. 140. 114. 113. 115. 139.\n",
            "  102.]\n",
            " [172. 105.  61. 149. 189. 119. 106. 120. 109. 148.  95. 110. 102. 110.\n",
            "   94.]\n",
            " [186.  41.  34. 104. 153.  91. 172. 147.  98. 143. 136.  92.  83.  37.\n",
            "   87.]\n",
            " [207.  94.  42.  75.  95.  99. 104. 120. 101.  94. 116. 149.  83.  64.\n",
            "   42.]]\n",
            "Pooled results shape: (15, 15)\n"
          ]
        },
        {
          "output_type": "display_data",
          "data": {
            "text/plain": [
              "<Figure size 432x288 with 1 Axes>"
            ],
            "image/png": "[encoded data removed]"
          },
          "metadata": {
            "needs_background": "light"
          }
        },
        {
          "output_type": "stream",
          "name": "stdout",
          "text": [
            "[[ 98. 112.  93. 195. 173.]\n",
            " [ 84. 127. 137. 253. 254.]\n",
            " [ 85. 145. 225. 255. 242.]\n",
            " [104. 178. 216. 230. 242.]\n",
            " [ 95. 186. 147. 248. 242.]]\n"
          ]
        }
      ]
    },
    {
      "cell_type": "markdown",
      "metadata": {
        "id": "tCxlJYlqejuM"
      },
      "source": [
        "## 2 - Convolution Neural Network ##\n",
        " \n",
        "In this section, we will use LeNet-5 (LeCun et al., 1998), one of representative deep nueral networks, to solve a  classification problem with Fashion MNIST benchmark.\n",
        "\n",
        "### 2.1 Library Preparation\n",
        "\n",
        "Import useful deep learning packages. \n",
        "\n",
        "**Tasks:**\n",
        "1. Import numpy and rename it to np.\n",
        "2. Import keras from tensorflow.\n",
        "3. Import layers from tensorflow.keras\n"
      ]
    },
    {
      "cell_type": "code",
      "metadata": {
        "id": "e5enuEKHejuM"
      },
      "source": [
        "import numpy as np\n",
        "from tensorflow import keras\n",
        "from tensorflow.keras import layers"
      ],
      "execution_count": 63,
      "outputs": []
    },
    {
      "cell_type": "markdown",
      "metadata": {
        "id": "BUs3cBXXejuN"
      },
      "source": [
        "### 2.2 Training Data Preparation\n",
        "\n",
        "Import useful packages and prepare Fashion MNIST data. **(20 Points)**\n",
        "\n",
        "**Tasks:**\n",
        "1. Download Fashion MNIST data and split it with keras and prepare training/test data sets.\n",
        "2. Preprocess training/test data with normalization, dimension extension, and zero padding (for LeNet-5 configuration).\n",
        "3. Preprocess label data to binary class matrices.\n",
        "4. **PRINT OUT** first image in training set and its correponding label index\n",
        "5. **PRINT OUT** the shape of total training data, the number of training samples, and the number of test samples.\n",
        "\n",
        "**Hints**\n",
        "1. You may consider load function from the reference link. https://keras.io/api/datasets/ It provides dataloader function which can tackle downloading and data splitting automatically.\n",
        "2. For label preprocessing, you may consider **keras.utils.to_categorical** to convert class vectors to binary class matrices. This conversion makes sure the label can match the format of prediction output from neural network.\n",
        "3. For image display, consider showing the image and label **before dimension expansion and label preprocessing**.\n",
        "4. You may consider MNIST processing shown in class as an example.\n",
        "\n",
        "**References**\n",
        "- Fashion MNIST https://github.com/zalandoresearch/fashion-mnist\n"
      ]
    },
    {
      "cell_type": "code",
      "metadata": {
        "id": "DjyfYiGrejuN",
        "colab": {
          "base_uri": "https://localhost:8080/",
          "height": 333
        },
        "outputId": "83fd14b7-3adb-437c-afa9-b768b8fea2ee"
      },
      "source": [
        "# # the data, split between train and test sets with keras.datasets\n",
        "\n",
        "# Load the Fashion-MNIST dataset\n",
        "(x_train, y_train), (x_test, y_test) = keras.datasets.fashion_mnist.load_data()\n",
        "\n",
        "# Model / data parameters\n",
        "num_classes = 10\n",
        "input_shape = (32, 32, 1) ## think about the reason\n",
        "\n",
        "x_train = x_train.astype('float32') / 255.\n",
        "x_test = x_test.astype('float32') / 255.\n",
        "\n",
        "# Print out first image and its correponding label index\n",
        "\n",
        "plt.imshow(x_train[0], cmap='gray')\n",
        "plt.title('Label: ' + str(y_train[0]))\n",
        "plt.show()\n",
        "\n",
        "# # Dimension expansion to ensure that images have shape (28, 28, 1)\n",
        "x_train = np.expand_dims(x_train, axis=-1)\n",
        "x_test = np.expand_dims(x_test, axis=-1)\n",
        "\n",
        "# # Conduct padding on training/test images to (32, 32, 1) for LeNet-5\n",
        "x_train = np.pad(x_train, ((0,0),(2,2),(2,2),(0,0)), 'constant')\n",
        "x_test = np.pad(x_test, ((0,0),(2,2),(2,2),(0,0)), 'constant')\n",
        "\n",
        "# # Print out the training/test data shapes and the numbers of training/test samples\n",
        "print(\"x_train shape:\", x_train.shape)\n",
        "print(x_train.shape[0], \"train samples\")\n",
        "print(x_test.shape[0], \"test samples\")\n",
        "\n",
        "# # convert label vectors to binary class matrices for training/test labels \n",
        "y_train = keras.utils.to_categorical(y_train, num_classes)\n",
        "y_test = keras.utils.to_categorical(y_test, num_classes)"
      ],
      "execution_count": 66,
      "outputs": [
        {
          "output_type": "display_data",
          "data": {
            "text/plain": [
              "<Figure size 432x288 with 1 Axes>"
            ],
            "image/png": "[encoded data removed]"
          },
          "metadata": {
            "needs_background": "light"
          }
        },
        {
          "output_type": "stream",
          "name": "stdout",
          "text": [
            "x_train shape: (60000, 32, 32, 1)\n",
            "60000 train samples\n",
            "10000 test samples\n"
          ]
        }
      ]
    },
    {
      "cell_type": "markdown",
      "metadata": {
        "id": "sw4GqzZmejuN"
      },
      "source": [
        "### 2.3 LeNet-5 \n",
        "\n",
        "Construct LeNet-5 as learning model for Fashion MNIST classification task. **(15 Points)**\n",
        "\n",
        "**Tasks:**\n",
        "1. Build up LeNet-5 with keras.Sequential\n",
        "2. Set the regularizer to l2 and regularizer lambda is **4e-5**.\n",
        "2. **PRINT OUT** the model summary.\n",
        "\n",
        "**Hints:**\n",
        "1. You may consider the convolution neural network shown in class as an example.\n",
        "2. The structure of LeNet-5 is listed below. Try to map each step to related processing operation. You can also search some materials to faciliate implementation. \n",
        "3. Some architecture settings are listed below. \n",
        "    - The kernel size for 2D convolution filter is **5 X 5**. You may think about the reason by calculation.\n",
        "    - Regularizer is set to L2 regularizer with **kernel_regularizer=regularizers.l2(4e-5)**.\n",
        "    - We change tanh activation to **\"relu\"** activation here. Please use **activation=\"relu\"** for implementation.\n",
        "    - We use MaxPooling instead of original AveragePooling. Please use \"**MaxPooling2D(pool_size=(2, 2))**\" for implementation.\n",
        "    - Please use **Flatten** to onvert 2D convolution layer to 1D fully connected layer.\n",
        "    - Gaussian connections are replaced with Softmax, and thus, the outputs are activated by Softmax function based on the number of classes.\n",
        "\n",
        "4. Validation result:\n",
        "    - Total params: 61,706\n",
        "    - Trainable params: 61,706\n",
        "    - Non-trainable params: 0\n",
        "\n",
        "![](https://drive.google.com/uc?export=view&id=1Ks9RasENa0KiYRi2vwfJ_BQxkLB-x49R)\n",
        "\n",
        "\n",
        "**References:**\n",
        "- http://yann.lecun.com/exdb/lenet/\n"
      ]
    },
    {
      "cell_type": "code",
      "metadata": {
        "id": "c97heiiSejuN",
        "colab": {
          "base_uri": "https://localhost:8080/"
        },
        "outputId": "ecb1123e-b88e-495b-a60e-b8d59c2918fa"
      },
      "source": [
        "### Construct LeNet-5\n",
        "\n",
        "from tensorflow.keras import regularizers\n",
        "\n",
        "keras.backend.clear_session()\n",
        "\n",
        "model = keras.Sequential(\n",
        "    [\n",
        "        keras.Input(shape=(32, 32, 1)),\n",
        "        layers.Conv2D(6, kernel_size=(5, 5), kernel_regularizer=regularizers.l2(4e-5), activation=\"relu\"), #C1\n",
        "        layers.MaxPooling2D(pool_size=(2, 2)), # S2 Subsampling\n",
        "        layers.Conv2D(16, kernel_size=(5, 5), kernel_regularizer=regularizers.l2(4e-5), activation=\"relu\"), # C3\n",
        "        layers.MaxPooling2D(pool_size=(2, 2)), # S4 Subsampling\n",
        "        layers.Flatten(), # Convert 2D convolution layer to 1D fully connected layer\n",
        "        layers.Dense(120, kernel_regularizer=regularizers.l2(4e-5), activation=\"relu\"), # C5\n",
        "        layers.Dense(84, kernel_regularizer=regularizers.l2(4e-5), activation=\"relu\"), # F6\n",
        "        layers.Dense(10, activation=\"softmax\"), # OUTPUT\n",
        "    ]\n",
        ")\n",
        "\n",
        "model.summary()"
      ],
      "execution_count": 68,
      "outputs": [
        {
          "output_type": "stream",
          "name": "stdout",
          "text": [
            "Model: \"sequential\"\n",
            "_________________________________________________________________\n",
            " Layer (type)                Output Shape              Param #   \n",
            "=================================================================\n",
            " conv2d (Conv2D)             (None, 28, 28, 6)         156       \n",
            "                                                                 \n",
            " max_pooling2d (MaxPooling2D  (None, 14, 14, 6)        0         \n",
            " )                                                               \n",
            "                                                                 \n",
            " conv2d_1 (Conv2D)           (None, 10, 10, 16)        2416      \n",
            "                                                                 \n",
            " max_pooling2d_1 (MaxPooling  (None, 5, 5, 16)         0         \n",
            " 2D)                                                             \n",
            "                                                                 \n",
            " flatten (Flatten)           (None, 400)               0         \n",
            "                                                                 \n",
            " dense (Dense)               (None, 120)               48120     \n",
            "                                                                 \n",
            " dense_1 (Dense)             (None, 84)                10164     \n",
            "                                                                 \n",
            " dense_2 (Dense)             (None, 10)                850       \n",
            "                                                                 \n",
            "=================================================================\n",
            "Total params: 61,706\n",
            "Trainable params: 61,706\n",
            "Non-trainable params: 0\n",
            "_________________________________________________________________\n"
          ]
        }
      ]
    },
    {
      "cell_type": "markdown",
      "metadata": {
        "id": "VmVzUU9oejuO"
      },
      "source": [
        "#### 2.4 LeNet-5 Model Training\n",
        "\n",
        "Train LeNet-5 model with specific training strategy. **(20 Points)**\n",
        "\n",
        "**Tasks:**\n",
        "1. Set batch size to **64** for training. \n",
        "2. Pick **SGD optimizer** with learning rate of **0.1**, momentum of **0.9**, and **nesterov=True**, for model training.\n",
        "3. Pick **cross-entropy** loss function for optimization and evaluation metrics is set to **accuracy**.\n",
        "4. Set validation_split to **0.1** which means it excludes 1/10 training data for validation process.\n",
        "4. Train the model with **10 epochs**.\n",
        "5. Evaluate model with test data set and **PRINT OUT** : **test loss** and **test accuracy**. Note that the model here is the **LAST** model after **10 epochs** training.\n",
        "\n",
        "**Hints:**\n",
        "1. You may consider the examples from Keras to specify optimizer parameters. https://keras.io/api/optimizers/\n",
        "2. You may use the example shown in class to faciliate this implementation.\n",
        "3. You may see slightly different results every time you run the training. It is normal since there is randomness for training. However, you should expect the **BEST** validation accuracy is above **87%** which may not be the result from last epoch."
      ]
    },
    {
      "cell_type": "code",
      "metadata": {
        "id": "Mz-Cvsu8ejuO",
        "colab": {
          "base_uri": "https://localhost:8080/"
        },
        "outputId": "ce22471a-b30d-44bc-d88a-a4a546b5b7ed"
      },
      "source": [
        "### Train with SGD optimizer with learning rate =0.1, regularizer=4e-5, momentum=0.9, and nesterov=True\n",
        "\n",
        "batch_size = 64\n",
        "epochs = 10\n",
        "sgd = keras.optimizers.SGD(lr=0.1, momentum=0.9, nesterov=True)\n",
        "model.compile(loss='categorical_crossentropy', optimizer=sgd, metrics=['accuracy'])\n",
        "history = model.fit(x_train, y_train, batch_size=batch_size, epochs=epochs, validation_split=0.1)\n"
      ],
      "execution_count": 77,
      "outputs": [
        {
          "output_type": "stream",
          "name": "stderr",
          "text": [
            "WARNING:absl:`lr` is deprecated, please use `learning_rate` instead, or use the legacy optimizer, e.g.,tf.keras.optimizers.legacy.SGD.\n"
          ]
        },
        {
          "output_type": "stream",
          "name": "stdout",
          "text": [
            "Epoch 1/10\n",
            "844/844 [==============================] - 6s 6ms/step - loss: 0.1264 - accuracy: 0.9622 - val_loss: 0.3714 - val_accuracy: 0.9020\n",
            "Epoch 2/10\n",
            "844/844 [==============================] - 4s 5ms/step - loss: 0.1241 - accuracy: 0.9636 - val_loss: 0.3790 - val_accuracy: 0.9018\n",
            "Epoch 3/10\n",
            "844/844 [==============================] - 4s 5ms/step - loss: 0.1242 - accuracy: 0.9632 - val_loss: 0.4084 - val_accuracy: 0.8948\n",
            "Epoch 4/10\n",
            "844/844 [==============================] - 5s 6ms/step - loss: 0.1209 - accuracy: 0.9642 - val_loss: 0.3976 - val_accuracy: 0.9045\n",
            "Epoch 5/10\n",
            "844/844 [==============================] - 4s 5ms/step - loss: 0.1205 - accuracy: 0.9652 - val_loss: 0.4013 - val_accuracy: 0.9002\n",
            "Epoch 6/10\n",
            "844/844 [==============================] - 4s 5ms/step - loss: 0.1154 - accuracy: 0.9671 - val_loss: 0.4211 - val_accuracy: 0.8997\n",
            "Epoch 7/10\n",
            "844/844 [==============================] - 4s 5ms/step - loss: 0.1115 - accuracy: 0.9697 - val_loss: 0.4692 - val_accuracy: 0.8972\n",
            "Epoch 8/10\n",
            "844/844 [==============================] - 4s 4ms/step - loss: 0.1131 - accuracy: 0.9687 - val_loss: 0.4281 - val_accuracy: 0.9017\n",
            "Epoch 9/10\n",
            "844/844 [==============================] - 4s 4ms/step - loss: 0.1101 - accuracy: 0.9701 - val_loss: 0.4195 - val_accuracy: 0.9008\n",
            "Epoch 10/10\n",
            "844/844 [==============================] - 4s 5ms/step - loss: 0.1106 - accuracy: 0.9694 - val_loss: 0.4708 - val_accuracy: 0.8965\n"
          ]
        }
      ]
    },
    {
      "cell_type": "code",
      "metadata": {
        "id": "Zi-xsLUiejuO",
        "colab": {
          "base_uri": "https://localhost:8080/"
        },
        "outputId": "1a0e05d1-e9ba-419e-adc7-90c66339c93e"
      },
      "source": [
        "### Print out the evaluation results, including test loss and test accuracy.\n",
        "\n",
        "score = model.evaluate(x_test, y_test, verbose=0)\n",
        "print(\"Test loss:\", score[0])\n",
        "print(\"Test accuracy:\", score[1])\n"
      ],
      "execution_count": 76,
      "outputs": [
        {
          "output_type": "stream",
          "name": "stdout",
          "text": [
            "Test loss: 0.3895655572414398\n",
            "Test accuracy: 0.8977000117301941\n"
          ]
        }
      ]
    }
  ]
}